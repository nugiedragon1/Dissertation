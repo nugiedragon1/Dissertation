{
 "cells": [
  {
   "cell_type": "code",
   "execution_count": 12,
   "id": "16f433f9-00c8-46a1-9a1a-c7ffee4f4b88",
   "metadata": {},
   "outputs": [],
   "source": [
    "#importing the libraries\n",
    "import pandas as pd\n",
    "import numpy as np\n",
    "import matplotlib.pyplot as plt\n",
    "from sklearn.preprocessing import LabelEncoder , RobustScaler, MinMaxScaler, StandardScaler\n",
    "from sklearn.decomposition import PCA\n",
    "from numpy.random import seed , randn\n",
    "from numpy import mean\n",
    "from numpy import std\n",
    "from sklearn.svm import SVR"
   ]
  },
  {
   "cell_type": "code",
   "execution_count": 13,
   "id": "67f8138f-081c-4c63-a00b-a63f9811c4e7",
   "metadata": {
    "scrolled": true
   },
   "outputs": [
    {
     "data": {
      "text/html": [
       "<div>\n",
       "<style scoped>\n",
       "    .dataframe tbody tr th:only-of-type {\n",
       "        vertical-align: middle;\n",
       "    }\n",
       "\n",
       "    .dataframe tbody tr th {\n",
       "        vertical-align: top;\n",
       "    }\n",
       "\n",
       "    .dataframe thead th {\n",
       "        text-align: right;\n",
       "    }\n",
       "</style>\n",
       "<table border=\"1\" class=\"dataframe\">\n",
       "  <thead>\n",
       "    <tr style=\"text-align: right;\">\n",
       "      <th></th>\n",
       "      <th>make_model</th>\n",
       "      <th>body_type</th>\n",
       "      <th>Body Color</th>\n",
       "      <th>km</th>\n",
       "      <th>hp</th>\n",
       "      <th>Transmission</th>\n",
       "      <th>Extras</th>\n",
       "      <th>price</th>\n",
       "    </tr>\n",
       "  </thead>\n",
       "  <tbody>\n",
       "    <tr>\n",
       "      <th>0</th>\n",
       "      <td>Audi A3</td>\n",
       "      <td>Station wagon</td>\n",
       "      <td>Orange</td>\n",
       "      <td>5558</td>\n",
       "      <td>85</td>\n",
       "      <td>Manual</td>\n",
       "      <td>Alloy wheels,Voice Control</td>\n",
       "      <td>5555</td>\n",
       "    </tr>\n",
       "    <tr>\n",
       "      <th>1</th>\n",
       "      <td>Audi A1</td>\n",
       "      <td>Sedans</td>\n",
       "      <td>White</td>\n",
       "      <td>115000</td>\n",
       "      <td>85</td>\n",
       "      <td>Manual</td>\n",
       "      <td>Alloy wheels,Winter tyres</td>\n",
       "      <td>8999</td>\n",
       "    </tr>\n",
       "    <tr>\n",
       "      <th>2</th>\n",
       "      <td>Audi A1</td>\n",
       "      <td>Sedans</td>\n",
       "      <td>Black</td>\n",
       "      <td>192000</td>\n",
       "      <td>85</td>\n",
       "      <td>Manual</td>\n",
       "      <td>Alloy wheels</td>\n",
       "      <td>10000</td>\n",
       "    </tr>\n",
       "    <tr>\n",
       "      <th>3</th>\n",
       "      <td>Audi A1</td>\n",
       "      <td>Sedans</td>\n",
       "      <td>Red</td>\n",
       "      <td>85000</td>\n",
       "      <td>85</td>\n",
       "      <td>Manual</td>\n",
       "      <td>Catalytic Converter,Voice Control,Winter tyres</td>\n",
       "      <td>10300</td>\n",
       "    </tr>\n",
       "    <tr>\n",
       "      <th>4</th>\n",
       "      <td>Audi A1</td>\n",
       "      <td>Compact</td>\n",
       "      <td>White</td>\n",
       "      <td>130000</td>\n",
       "      <td>85</td>\n",
       "      <td>Manual</td>\n",
       "      <td>Alloy wheels</td>\n",
       "      <td>10490</td>\n",
       "    </tr>\n",
       "    <tr>\n",
       "      <th>...</th>\n",
       "      <td>...</td>\n",
       "      <td>...</td>\n",
       "      <td>...</td>\n",
       "      <td>...</td>\n",
       "      <td>...</td>\n",
       "      <td>...</td>\n",
       "      <td>...</td>\n",
       "      <td>...</td>\n",
       "    </tr>\n",
       "    <tr>\n",
       "      <th>4795</th>\n",
       "      <td>Audi A3</td>\n",
       "      <td>Compact</td>\n",
       "      <td>Silver</td>\n",
       "      <td>7</td>\n",
       "      <td>85</td>\n",
       "      <td>Semi-automatic</td>\n",
       "      <td>Alloy wheels,Roof rack,Sport seats,Sport suspe...</td>\n",
       "      <td>38495</td>\n",
       "    </tr>\n",
       "    <tr>\n",
       "      <th>4796</th>\n",
       "      <td>Audi A3</td>\n",
       "      <td>Compact</td>\n",
       "      <td>Grey</td>\n",
       "      <td>7</td>\n",
       "      <td>85</td>\n",
       "      <td>Semi-automatic</td>\n",
       "      <td>Alloy wheels,Sport seats,Sport suspension</td>\n",
       "      <td>38725</td>\n",
       "    </tr>\n",
       "    <tr>\n",
       "      <th>4797</th>\n",
       "      <td>Audi A3</td>\n",
       "      <td>Compact</td>\n",
       "      <td>Grey</td>\n",
       "      <td>7</td>\n",
       "      <td>85</td>\n",
       "      <td>Semi-automatic</td>\n",
       "      <td>Alloy wheels,Sport seats,Sport suspension</td>\n",
       "      <td>39575</td>\n",
       "    </tr>\n",
       "    <tr>\n",
       "      <th>4798</th>\n",
       "      <td>Audi A3</td>\n",
       "      <td>Compact</td>\n",
       "      <td>Grey</td>\n",
       "      <td>750</td>\n",
       "      <td>85</td>\n",
       "      <td>Semi-automatic</td>\n",
       "      <td>Alloy wheels,Roof rack,Sport seats,Sport suspe...</td>\n",
       "      <td>41495</td>\n",
       "    </tr>\n",
       "    <tr>\n",
       "      <th>4799</th>\n",
       "      <td>Audi A3</td>\n",
       "      <td>Convertible</td>\n",
       "      <td>Blue</td>\n",
       "      <td>8364</td>\n",
       "      <td>85</td>\n",
       "      <td>Semi-automatic</td>\n",
       "      <td>Alloy wheels,Shift paddles,Sport seats,Sport s...</td>\n",
       "      <td>56100</td>\n",
       "    </tr>\n",
       "  </tbody>\n",
       "</table>\n",
       "<p>4800 rows × 8 columns</p>\n",
       "</div>"
      ],
      "text/plain": [
       "     make_model      body_type Body Color      km  hp    Transmission  \\\n",
       "0       Audi A3  Station wagon     Orange    5558  85          Manual   \n",
       "1       Audi A1         Sedans      White  115000  85          Manual   \n",
       "2       Audi A1         Sedans      Black  192000  85          Manual   \n",
       "3       Audi A1         Sedans        Red   85000  85          Manual   \n",
       "4       Audi A1        Compact      White  130000  85          Manual   \n",
       "...         ...            ...        ...     ...  ..             ...   \n",
       "4795    Audi A3        Compact     Silver       7  85  Semi-automatic   \n",
       "4796    Audi A3        Compact       Grey       7  85  Semi-automatic   \n",
       "4797    Audi A3        Compact       Grey       7  85  Semi-automatic   \n",
       "4798    Audi A3        Compact       Grey     750  85  Semi-automatic   \n",
       "4799    Audi A3    Convertible       Blue    8364  85  Semi-automatic   \n",
       "\n",
       "                                                 Extras  price  \n",
       "0                            Alloy wheels,Voice Control   5555  \n",
       "1                             Alloy wheels,Winter tyres   8999  \n",
       "2                                          Alloy wheels  10000  \n",
       "3        Catalytic Converter,Voice Control,Winter tyres  10300  \n",
       "4                                          Alloy wheels  10490  \n",
       "...                                                 ...    ...  \n",
       "4795  Alloy wheels,Roof rack,Sport seats,Sport suspe...  38495  \n",
       "4796          Alloy wheels,Sport seats,Sport suspension  38725  \n",
       "4797          Alloy wheels,Sport seats,Sport suspension  39575  \n",
       "4798  Alloy wheels,Roof rack,Sport seats,Sport suspe...  41495  \n",
       "4799  Alloy wheels,Shift paddles,Sport seats,Sport s...  56100  \n",
       "\n",
       "[4800 rows x 8 columns]"
      ]
     },
     "execution_count": 13,
     "metadata": {},
     "output_type": "execute_result"
    }
   ],
   "source": [
    "#Importing data set\n",
    "# label_encoder = LabelEncoder()\n",
    "df = pd.read_csv(\"car_price.csv\")\n",
    "X = df [['km']]\n",
    "y = df [['price']]\n",
    "\n",
    "df"
   ]
  },
  {
   "cell_type": "code",
   "execution_count": 14,
   "id": "c6ff5454-2b62-4f6f-94f7-a3ada89a291a",
   "metadata": {},
   "outputs": [],
   "source": [
    "#feature scalling\n",
    "sc_X = StandardScaler()\n",
    "sc_y = StandardScaler()\n",
    "X=sc_X.fit_transform(X)\n",
    "y=sc_y.fit_transform(y)"
   ]
  },
  {
   "cell_type": "code",
   "execution_count": 32,
   "id": "b3eff6b3-95fd-460e-ac26-75fc6db1b48c",
   "metadata": {
    "scrolled": true
   },
   "outputs": [
    {
     "name": "stderr",
     "output_type": "stream",
     "text": [
      "C:\\Users\\kotam\\anaconda3\\lib\\site-packages\\sklearn\\utils\\validation.py:63: DataConversionWarning: A column-vector y was passed when a 1d array was expected. Please change the shape of y to (n_samples, ), for example using ravel().\n",
      "  return f(*args, **kwargs)\n",
      "C:\\Users\\kotam\\anaconda3\\lib\\site-packages\\sklearn\\utils\\validation.py:63: DataConversionWarning: A column-vector y was passed when a 1d array was expected. Please change the shape of y to (n_samples, ), for example using ravel().\n",
      "  return f(*args, **kwargs)\n",
      "C:\\Users\\kotam\\anaconda3\\lib\\site-packages\\sklearn\\utils\\validation.py:63: DataConversionWarning: A column-vector y was passed when a 1d array was expected. Please change the shape of y to (n_samples, ), for example using ravel().\n",
      "  return f(*args, **kwargs)\n"
     ]
    },
    {
     "data": {
      "text/plain": [
       "SVR(kernel='poly')"
      ]
     },
     "execution_count": 32,
     "metadata": {},
     "output_type": "execute_result"
    }
   ],
   "source": [
    "rbfRegressor = SVR(kernel='rbf')\n",
    "rbfRegressor.fit(X,y)\n",
    "linearRegressor = SVR(kernel='linear')\n",
    "linearRegressor.fit(X,y)\n",
    "polyRegressor = SVR(kernel='poly')\n",
    "polyRegressor.fit(X,y)"
   ]
  },
  {
   "cell_type": "code",
   "execution_count": 33,
   "id": "b9d4a965",
   "metadata": {},
   "outputs": [
    {
     "data": {
      "text/plain": [
       "array([24100.94224589])"
      ]
     },
     "execution_count": 33,
     "metadata": {},
     "output_type": "execute_result"
    }
   ],
   "source": [
    "rbf_y_pred = sc_y.inverse_transform((rbfRegressor.predict(sc_X.transform(np.array([[6.5]])))))\n",
    "rbf_y_pred"
   ]
  },
  {
   "cell_type": "code",
   "execution_count": 34,
   "id": "374c570b",
   "metadata": {},
   "outputs": [
    {
     "data": {
      "text/plain": [
       "array([22207.38616639])"
      ]
     },
     "execution_count": 34,
     "metadata": {},
     "output_type": "execute_result"
    }
   ],
   "source": [
    "linear_y_pred = sc_y.inverse_transform((linearRegressor.predict(sc_X.transform(np.array([[6.5]])))))\n",
    "linear_y_pred"
   ]
  },
  {
   "cell_type": "code",
   "execution_count": 35,
   "id": "ee3bd26e",
   "metadata": {},
   "outputs": [
    {
     "data": {
      "text/plain": [
       "array([20074.95394377])"
      ]
     },
     "execution_count": 35,
     "metadata": {},
     "output_type": "execute_result"
    }
   ],
   "source": [
    "poly_y_pred = sc_y.inverse_transform((polyRegressor.predict(sc_X.transform(np.array([[6.5]])))))\n",
    "poly_y_pred"
   ]
  },
  {
   "cell_type": "code",
   "execution_count": 29,
   "id": "1edf590f",
   "metadata": {},
   "outputs": [
    {
     "data": {
      "image/png": "[encoded data removed]",
      "text/plain": [
       "<Figure size 432x288 with 1 Axes>"
      ]
     },
     "metadata": {
      "needs_background": "light"
     },
     "output_type": "display_data"
    }
   ],
   "source": [
    "X_grid = np.arange(min(X), max(X), 0.1)\n",
    "X_grid = X_grid.reshape((len(X_grid), 1))\n",
    "plt.scatter(X, y, color ='blue')\n",
    "plt.plot(X_grid, regressor.predict(X_grid), color = 'red' )\n",
    "plt.title('Support Vector Regression Model (rbf)')\n",
    "plt.xlabel('Measured')\n",
    "plt.ylabel('Predicted')\n",
    "plt.show()"
   ]
  },
  {
   "cell_type": "code",
   "execution_count": 36,
   "id": "d9edd7ea",
   "metadata": {},
   "outputs": [
    {
     "name": "stdout",
     "output_type": "stream",
     "text": [
      "Linear Kernel Mean Absolute Error (MAE): 0.625282\n",
      "Linear Kernel Root Mean Squared Error (RMSE): 0.812790\n",
      "Polynomial Kernel Mean Absolute Error (MAE): 0.781141\n",
      "Polynomial Kernel Root Mean Squared Error (RMSE): 0.988988\n",
      "RBF Kernel Mean Absolute Error (MAE): 0.556014\n",
      "RBF Kernel Root Mean Squared Error (RMSE): 0.728607\n"
     ]
    }
   ],
   "source": [
    "from sklearn import metrics\n",
    "\n",
    "print('Linear Kernel Mean Absolute Error (MAE): %f' %\n",
    "metrics.mean_absolute_error(y, linearRegressor.predict(X)))\n",
    "print('Linear Kernel Root Mean Squared Error (RMSE): %f' %\n",
    "np.sqrt(metrics.mean_squared_error(y, linearRegressor.predict(X))))\n",
    "print('Polynomial Kernel Mean Absolute Error (MAE): %f' %\n",
    "metrics.mean_absolute_error(y, polyRegressor.predict(X)))\n",
    "print('Polynomial Kernel Root Mean Squared Error (RMSE): %f' %\n",
    "np.sqrt(metrics.mean_squared_error(y, polyRegressor.predict(X))))\n",
    "print('RBF Kernel Mean Absolute Error (MAE): %f' %\n",
    "metrics.mean_absolute_error(y, rbfRegressor.predict(X)))\n",
    "print('RBF Kernel Root Mean Squared Error (RMSE): %f' %\n",
    "np.sqrt(metrics.mean_squared_error(y, rbfRegressor.predict(X))))"
   ]
  },
  {
   "cell_type": "code",
   "execution_count": 38,
   "id": "75210e26",
   "metadata": {},
   "outputs": [
    {
     "data": {
      "image/png": "[encoded data removed]",
      "text/plain": [
       "<Figure size 432x288 with 1 Axes>"
      ]
     },
     "metadata": {
      "needs_background": "light"
     },
     "output_type": "display_data"
    }
   ],
   "source": [
    "linear_support_X = X[linearRegressor.support_]\n",
    "linear_support_y = y[linearRegressor.support_]\n",
    "# Polynomial Support Vectors\n",
    "poly_support_X = X[polyRegressor.support_]\n",
    "poly_support_y = y[polyRegressor.support_]\n",
    "# RBF Support Vectors\n",
    "rbf_support_X = X[rbfRegressor.support_]\n",
    "rbf_support_y = y[rbfRegressor.support_]\n",
    "plt.scatter(X, y, color='dimgray', label='Data', s=15)\n",
    "# plt.scatter(linear_support_X, linear_support_y, facecolor = 'none', edgecolor= 'salmon', label='Linear Support Vectors', marker='.', s=50)\n",
    "plt.plot(X, linearRegressor.predict(X), color = 'salmon', label='Linear Model')\n",
    "# plt.scatter(poly_support_X, poly_support_y, facecolor = 'none', edgecolor= 'skyblue', label='Polynomial Support Vectors', marker='.', s=50)\n",
    "plt.plot(X, polyRegressor.predict(X), color = 'skyblue', label='Polynomial Model')\n",
    "# plt.scatter(rbf_support_X, rbf_support_y, facecolor = 'none', edgecolor= 'mediumvioletred', label='RBF Support Vectors', marker='.', s=50)\n",
    "plt.plot(X, rbfRegressor.predict(X), color = 'mediumvioletred', label='RBF Model')\n",
    "plt.title('Support Vector Regression')\n",
    "plt.xlabel('KM')\n",
    "plt.ylabel('Price')\n",
    "plt.legend()\n",
    "plt.show()"
   ]
  },
  {
   "cell_type": "code",
   "execution_count": null,
   "id": "43a892b1",
   "metadata": {},
   "outputs": [],
   "source": []
  }
 ],
 "metadata": {
  "kernelspec": {
   "display_name": "Python 3 (ipykernel)",
   "language": "python",
   "name": "python3"
  },
  "language_info": {
   "codemirror_mode": {
    "name": "ipython",
    "version": 3
   },
   "file_extension": ".py",
   "mimetype": "text/x-python",
   "name": "python",
   "nbconvert_exporter": "python",
   "pygments_lexer": "ipython3",
   "version": "3.9.7"
  }
 },
 "nbformat": 4,
 "nbformat_minor": 5
}
