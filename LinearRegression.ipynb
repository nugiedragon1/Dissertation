{
 "cells": [
  {
   "cell_type": "markdown",
   "id": "e562b784",
   "metadata": {},
   "source": [
    "# Importing Dependencies and Libraries"
   ]
  },
  {
   "cell_type": "code",
   "execution_count": 11,
   "id": "01706bbc",
   "metadata": {},
   "outputs": [],
   "source": [
    "import pandas as pd\n",
    "import statsmodels.api as sm\n",
    "from sklearn.model_selection import train_test_split\n",
    "import seaborn as sns\n",
    "import matplotlib.pyplot as plt\n",
    "from sklearn import linear_model\n",
    "import numpy as np"
   ]
  },
  {
   "cell_type": "markdown",
   "id": "9660f11d",
   "metadata": {},
   "source": [
    "# Importing Data Set"
   ]
  },
  {
   "cell_type": "code",
   "execution_count": 12,
   "id": "db0ae10a",
   "metadata": {},
   "outputs": [],
   "source": [
    "df=pd.read_csv(\"car_price.csv\")\n",
    "X = df.iloc[:, [3]].values\n",
    "y = df.iloc[:, [7]].values"
   ]
  },
  {
   "cell_type": "markdown",
   "id": "ceb04be5",
   "metadata": {},
   "source": [
    "# Importing Train/Test/Split"
   ]
  },
  {
   "cell_type": "code",
   "execution_count": 13,
   "id": "21635e46",
   "metadata": {},
   "outputs": [],
   "source": [
    "from sklearn.model_selection import train_test_split\n",
    "X_train, X_test, y_train, y_test  = train_test_split(X, y, test_size = 0.25, random_state = 42)"
   ]
  },
  {
   "cell_type": "markdown",
   "id": "48bc074f",
   "metadata": {},
   "source": [
    "# Feature Scaling"
   ]
  },
  {
   "cell_type": "code",
   "execution_count": 14,
   "id": "e5e3dcf8",
   "metadata": {},
   "outputs": [],
   "source": [
    "from sklearn import preprocessing\n",
    "\n",
    "scaler = preprocessing.MinMaxScaler().fit(X)\n",
    "data_scaled = scaler.transform(X)\n",
    "X_scaled = data_scaled\n",
    "scaler = preprocessing.MinMaxScaler().fit(y)\n",
    "data_scaled = scaler.transform(y)\n",
    "y_scaled = data_scaled"
   ]
  },
  {
   "cell_type": "markdown",
   "id": "1c5aa069",
   "metadata": {},
   "source": [
    "# Implementing K-Fold 10 Fold Cross Validation"
   ]
  },
  {
   "cell_type": "code",
   "execution_count": 15,
   "id": "c02b7ea7",
   "metadata": {},
   "outputs": [
    {
     "name": "stdout",
     "output_type": "stream",
     "text": [
      "Fold: 1\n",
      "Accuracy for the fold no. 1 on the test set: -27.587370995938425%\n",
      "Fold: 2\n",
      "Accuracy for the fold no. 2 on the test set: -103.45025222056745%\n",
      "Fold: 3\n",
      "Accuracy for the fold no. 3 on the test set: -220.5478124559737%\n",
      "Fold: 4\n",
      "Accuracy for the fold no. 4 on the test set: -44.47976530372815%\n",
      "Fold: 5\n",
      "Accuracy for the fold no. 5 on the test set: -25.258964581657533%\n",
      "Fold: 6\n",
      "Accuracy for the fold no. 6 on the test set: -10.416614394040977%\n",
      "Fold: 7\n",
      "Accuracy for the fold no. 7 on the test set: -18.545481928209917%\n",
      "Fold: 8\n",
      "Accuracy for the fold no. 8 on the test set: -32.18366872781094%\n",
      "Fold: 9\n",
      "Accuracy for the fold no. 9 on the test set: -25.897237818205166%\n",
      "Fold: 10\n",
      "Accuracy for the fold no. 10 on the test set: -7.5398038908031015%\n"
     ]
    }
   ],
   "source": [
    "from sklearn.model_selection import KFold\n",
    "from sklearn.linear_model import LinearRegression\n",
    "\n",
    "kf = KFold(n_splits=10)\n",
    "i = 1\n",
    "scores = []\n",
    "lm = LinearRegression()\n",
    "for train, test in kf.split(X_scaled):\n",
    "    print(\"Fold: {}\".format(i))\n",
    "    X_train, X_test, y_train, y_test = X_scaled[train], X_scaled[test], y_scaled[train], y_scaled[test]\n",
    "    lm.fit(X_train,y_train)\n",
    "    score = lm.score(X_test, y_test)\n",
    "    scores.append(score)\n",
    "    print(f\"Accuracy for the fold no. {i} on the test set: {score}%\")\n",
    "    i += 1\n"
   ]
  },
  {
   "cell_type": "markdown",
   "id": "7986a64e",
   "metadata": {},
   "source": [
    "Fitting The Model into Dataset"
   ]
  },
  {
   "cell_type": "code",
   "execution_count": 16,
   "id": "48c22c19",
   "metadata": {},
   "outputs": [],
   "source": [
    "y_pred = lm.predict(X_test)"
   ]
  },
  {
   "cell_type": "markdown",
   "id": "1b5f4545",
   "metadata": {},
   "source": [
    "# Predicting the Linear Regression using Cross Validation and Plotting the Result"
   ]
  },
  {
   "cell_type": "code",
   "execution_count": 17,
   "id": "7dd7cf59",
   "metadata": {},
   "outputs": [
    {
     "data": {
      "image/png": "[encoded data removed]",
      "text/plain": [
       "<Figure size 432x288 with 1 Axes>"
      ]
     },
     "metadata": {
      "needs_background": "light"
     },
     "output_type": "display_data"
    }
   ],
   "source": [
    "from sklearn.model_selection import cross_val_predict\n",
    "\n",
    "lr = LinearRegression()\n",
    "predicted = cross_val_predict(lr, X_scaled, y_scaled, cv=10)\n",
    "\n",
    "fig, ax = plt.subplots()\n",
    "ax.scatter(y_scaled, predicted, edgecolors=(0, 0, 0), s=50)\n",
    "ax.plot([y_scaled.min(), y_scaled.max()], [y_scaled.min(), y_scaled.max()], 'k--', lw=5)\n",
    "ax.set_xlabel('Measured')\n",
    "ax.set_ylabel('Predicted')\n",
    "plt.show()"
   ]
  },
  {
   "cell_type": "markdown",
   "id": "601d1c3e",
   "metadata": {},
   "source": [
    "# Printing the Scoring Metrics for the Linear Regression Model"
   ]
  },
  {
   "cell_type": "code",
   "execution_count": 19,
   "id": "da58582e",
   "metadata": {},
   "outputs": [
    {
     "name": "stdout",
     "output_type": "stream",
     "text": [
      "[ -27.587371   -103.45025222 -220.54781246  -44.4797653   -25.25896458\n",
      "  -10.41661439  -18.54548193  -32.18366873  -25.89723782   -7.53980389]\n",
      "The Accuracy of the K-Fold 10 Cross Validation: 61.9036061665724 \n",
      "The Root Mean Squared Error is:  0.15288401460414708\n",
      "The Mean Absolute Error is:  0.1420974223582017\n"
     ]
    }
   ],
   "source": [
    "from sklearn.model_selection import cross_val_score\n",
    "from numpy import mean, std\n",
    "from sklearn import metrics\n",
    "\n",
    "linreg = LinearRegression()\n",
    "scores = cross_val_score(linreg, X_scaled, y_scaled, cv=10, scoring=\"r2\")\n",
    "\n",
    "mae = metrics.mean_absolute_error(y_test,y_pred)\n",
    "rmse = np.sqrt(metrics.mean_squared_error(y_test,y_pred))\n",
    "print(scores)\n",
    "print('The Accuracy of the K-Fold 10 Cross Validation: {} '.format(std(scores)))\n",
    "\n",
    "print('The Root Mean Squared Error is: ', rmse )\n",
    "print('The Mean Absolute Error is: ', mae )"
   ]
  },
  {
   "cell_type": "code",
   "execution_count": 27,
   "id": "038c9378",
   "metadata": {},
   "outputs": [
    {
     "data": {
      "text/html": [
       "<div>\n",
       "<style scoped>\n",
       "    .dataframe tbody tr th:only-of-type {\n",
       "        vertical-align: middle;\n",
       "    }\n",
       "\n",
       "    .dataframe tbody tr th {\n",
       "        vertical-align: top;\n",
       "    }\n",
       "\n",
       "    .dataframe thead th {\n",
       "        text-align: right;\n",
       "    }\n",
       "</style>\n",
       "<table border=\"1\" class=\"dataframe\">\n",
       "  <thead>\n",
       "    <tr style=\"text-align: right;\">\n",
       "      <th></th>\n",
       "      <th>Predicted value</th>\n",
       "      <th>Real Value</th>\n",
       "    </tr>\n",
       "  </thead>\n",
       "  <tbody>\n",
       "    <tr>\n",
       "      <th>0</th>\n",
       "      <td>[[0.3018901262275625], [0.2983948631072976], [...</td>\n",
       "      <td>[[0.39438124443565137], [0.39440102878623007],...</td>\n",
       "    </tr>\n",
       "  </tbody>\n",
       "</table>\n",
       "</div>"
      ],
      "text/plain": [
       "                                     Predicted value  \\\n",
       "0  [[0.3018901262275625], [0.2983948631072976], [...   \n",
       "\n",
       "                                          Real Value  \n",
       "0  [[0.39438124443565137], [0.39440102878623007],...  "
      ]
     },
     "execution_count": 27,
     "metadata": {},
     "output_type": "execute_result"
    }
   ],
   "source": [
    "# df_pred = pd.DataFrame({'Predicted value': [y_pred], 'Real Value': [y_test]})\n",
    "# df_pred"
   ]
  },
  {
   "cell_type": "code",
   "execution_count": null,
   "id": "053a310f",
   "metadata": {},
   "outputs": [],
   "source": []
  }
 ],
 "metadata": {
  "kernelspec": {
   "display_name": "Python 3 (ipykernel)",
   "language": "python",
   "name": "python3"
  },
  "language_info": {
   "codemirror_mode": {
    "name": "ipython",
    "version": 3
   },
   "file_extension": ".py",
   "mimetype": "text/x-python",
   "name": "python",
   "nbconvert_exporter": "python",
   "pygments_lexer": "ipython3",
   "version": "3.9.7"
  }
 },
 "nbformat": 4,
 "nbformat_minor": 5
}
