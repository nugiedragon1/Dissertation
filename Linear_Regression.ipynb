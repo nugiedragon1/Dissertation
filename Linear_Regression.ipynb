{
 "cells": [
  {
   "cell_type": "code",
   "execution_count": 1,
   "id": "e2a2885c",
   "metadata": {},
   "outputs": [],
   "source": [
    "#importing libraries for pandas, numpy, matplotlib, and seaborn\n",
    "import pandas as pd\n",
    "import numpy as np\n",
    "import matplotlib.pyplot as plt   \n",
    "import seaborn as sns"
   ]
  },
  {
   "cell_type": "code",
   "execution_count": 2,
   "id": "ac8e085f",
   "metadata": {},
   "outputs": [
    {
     "data": {
      "text/html": [
       "<div>\n",
       "<style scoped>\n",
       "    .dataframe tbody tr th:only-of-type {\n",
       "        vertical-align: middle;\n",
       "    }\n",
       "\n",
       "    .dataframe tbody tr th {\n",
       "        vertical-align: top;\n",
       "    }\n",
       "\n",
       "    .dataframe thead th {\n",
       "        text-align: right;\n",
       "    }\n",
       "</style>\n",
       "<table border=\"1\" class=\"dataframe\">\n",
       "  <thead>\n",
       "    <tr style=\"text-align: right;\">\n",
       "      <th></th>\n",
       "      <th>make_model</th>\n",
       "      <th>body_type</th>\n",
       "      <th>Body Color</th>\n",
       "      <th>km</th>\n",
       "      <th>hp</th>\n",
       "      <th>Transmission</th>\n",
       "      <th>Extras</th>\n",
       "      <th>price</th>\n",
       "    </tr>\n",
       "  </thead>\n",
       "  <tbody>\n",
       "    <tr>\n",
       "      <th>0</th>\n",
       "      <td>Audi A3</td>\n",
       "      <td>Station wagon</td>\n",
       "      <td>Orange</td>\n",
       "      <td>5558</td>\n",
       "      <td>85</td>\n",
       "      <td>Manual</td>\n",
       "      <td>Alloy wheels,Voice Control</td>\n",
       "      <td>5555</td>\n",
       "    </tr>\n",
       "    <tr>\n",
       "      <th>1</th>\n",
       "      <td>Audi A1</td>\n",
       "      <td>Sedans</td>\n",
       "      <td>White</td>\n",
       "      <td>115000</td>\n",
       "      <td>85</td>\n",
       "      <td>Manual</td>\n",
       "      <td>Alloy wheels,Winter tyres</td>\n",
       "      <td>8999</td>\n",
       "    </tr>\n",
       "    <tr>\n",
       "      <th>2</th>\n",
       "      <td>Audi A1</td>\n",
       "      <td>Sedans</td>\n",
       "      <td>Black</td>\n",
       "      <td>192000</td>\n",
       "      <td>85</td>\n",
       "      <td>Manual</td>\n",
       "      <td>Alloy wheels</td>\n",
       "      <td>10000</td>\n",
       "    </tr>\n",
       "    <tr>\n",
       "      <th>3</th>\n",
       "      <td>Audi A1</td>\n",
       "      <td>Sedans</td>\n",
       "      <td>Red</td>\n",
       "      <td>85000</td>\n",
       "      <td>85</td>\n",
       "      <td>Manual</td>\n",
       "      <td>Catalytic Converter,Voice Control,Winter tyres</td>\n",
       "      <td>10300</td>\n",
       "    </tr>\n",
       "    <tr>\n",
       "      <th>4</th>\n",
       "      <td>Audi A1</td>\n",
       "      <td>Compact</td>\n",
       "      <td>White</td>\n",
       "      <td>130000</td>\n",
       "      <td>85</td>\n",
       "      <td>Manual</td>\n",
       "      <td>Alloy wheels</td>\n",
       "      <td>10490</td>\n",
       "    </tr>\n",
       "    <tr>\n",
       "      <th>...</th>\n",
       "      <td>...</td>\n",
       "      <td>...</td>\n",
       "      <td>...</td>\n",
       "      <td>...</td>\n",
       "      <td>...</td>\n",
       "      <td>...</td>\n",
       "      <td>...</td>\n",
       "      <td>...</td>\n",
       "    </tr>\n",
       "    <tr>\n",
       "      <th>3595</th>\n",
       "      <td>Audi A3</td>\n",
       "      <td>Sedans</td>\n",
       "      <td>White</td>\n",
       "      <td>0</td>\n",
       "      <td>85</td>\n",
       "      <td>Manual</td>\n",
       "      <td>Alloy wheels,Voice Control</td>\n",
       "      <td>22680</td>\n",
       "    </tr>\n",
       "    <tr>\n",
       "      <th>3596</th>\n",
       "      <td>Audi A1</td>\n",
       "      <td>Sedans</td>\n",
       "      <td>Silver</td>\n",
       "      <td>9544</td>\n",
       "      <td>85</td>\n",
       "      <td>Automatic</td>\n",
       "      <td>Alloy wheels,Catalytic Converter,Sport package...</td>\n",
       "      <td>22683</td>\n",
       "    </tr>\n",
       "    <tr>\n",
       "      <th>3597</th>\n",
       "      <td>Audi A1</td>\n",
       "      <td>Compact</td>\n",
       "      <td>Black</td>\n",
       "      <td>20520</td>\n",
       "      <td>85</td>\n",
       "      <td>Automatic</td>\n",
       "      <td>Alloy wheels,Sport package,Sport seats,Sport s...</td>\n",
       "      <td>22690</td>\n",
       "    </tr>\n",
       "    <tr>\n",
       "      <th>3598</th>\n",
       "      <td>Audi A1</td>\n",
       "      <td>Sedans</td>\n",
       "      <td>Silver</td>\n",
       "      <td>6892</td>\n",
       "      <td>85</td>\n",
       "      <td>Automatic</td>\n",
       "      <td>Alloy wheels,Shift paddles,Sport seats,Sport s...</td>\n",
       "      <td>22690</td>\n",
       "    </tr>\n",
       "    <tr>\n",
       "      <th>3599</th>\n",
       "      <td>Audi A3</td>\n",
       "      <td>Sedans</td>\n",
       "      <td>Grey</td>\n",
       "      <td>17771</td>\n",
       "      <td>85</td>\n",
       "      <td>Automatic</td>\n",
       "      <td>Alloy wheels,Catalytic Converter,Sport package...</td>\n",
       "      <td>22690</td>\n",
       "    </tr>\n",
       "  </tbody>\n",
       "</table>\n",
       "<p>3600 rows × 8 columns</p>\n",
       "</div>"
      ],
      "text/plain": [
       "     make_model      body_type Body Color      km  hp Transmission  \\\n",
       "0       Audi A3  Station wagon     Orange    5558  85       Manual   \n",
       "1       Audi A1         Sedans      White  115000  85       Manual   \n",
       "2       Audi A1         Sedans      Black  192000  85       Manual   \n",
       "3       Audi A1         Sedans        Red   85000  85       Manual   \n",
       "4       Audi A1        Compact      White  130000  85       Manual   \n",
       "...         ...            ...        ...     ...  ..          ...   \n",
       "3595    Audi A3         Sedans      White       0  85       Manual   \n",
       "3596    Audi A1         Sedans     Silver    9544  85    Automatic   \n",
       "3597    Audi A1        Compact      Black   20520  85    Automatic   \n",
       "3598    Audi A1         Sedans     Silver    6892  85    Automatic   \n",
       "3599    Audi A3         Sedans       Grey   17771  85    Automatic   \n",
       "\n",
       "                                                 Extras  price  \n",
       "0                            Alloy wheels,Voice Control   5555  \n",
       "1                             Alloy wheels,Winter tyres   8999  \n",
       "2                                          Alloy wheels  10000  \n",
       "3        Catalytic Converter,Voice Control,Winter tyres  10300  \n",
       "4                                          Alloy wheels  10490  \n",
       "...                                                 ...    ...  \n",
       "3595                         Alloy wheels,Voice Control  22680  \n",
       "3596  Alloy wheels,Catalytic Converter,Sport package...  22683  \n",
       "3597  Alloy wheels,Sport package,Sport seats,Sport s...  22690  \n",
       "3598  Alloy wheels,Shift paddles,Sport seats,Sport s...  22690  \n",
       "3599  Alloy wheels,Catalytic Converter,Sport package...  22690  \n",
       "\n",
       "[3600 rows x 8 columns]"
      ]
     },
     "execution_count": 2,
     "metadata": {},
     "output_type": "execute_result"
    }
   ],
   "source": [
    "#reading data set and slice it into 75% for trainning\n",
    "df = pd.read_csv(\"car_price.csv\")\n",
    "n = 75\n",
    "data = df.head(int(len(df)*(n/100)))\n",
    "data"
   ]
  },
  {
   "cell_type": "code",
   "execution_count": 3,
   "id": "542bded7",
   "metadata": {},
   "outputs": [
    {
     "data": {
      "text/html": [
       "<div>\n",
       "<style scoped>\n",
       "    .dataframe tbody tr th:only-of-type {\n",
       "        vertical-align: middle;\n",
       "    }\n",
       "\n",
       "    .dataframe tbody tr th {\n",
       "        vertical-align: top;\n",
       "    }\n",
       "\n",
       "    .dataframe thead th {\n",
       "        text-align: right;\n",
       "    }\n",
       "</style>\n",
       "<table border=\"1\" class=\"dataframe\">\n",
       "  <thead>\n",
       "    <tr style=\"text-align: right;\">\n",
       "      <th></th>\n",
       "      <th>make_model</th>\n",
       "      <th>body_type</th>\n",
       "      <th>Body Color</th>\n",
       "      <th>km</th>\n",
       "      <th>hp</th>\n",
       "      <th>Transmission</th>\n",
       "      <th>Extras</th>\n",
       "      <th>price</th>\n",
       "    </tr>\n",
       "  </thead>\n",
       "  <tbody>\n",
       "    <tr>\n",
       "      <th>3600</th>\n",
       "      <td>Audi A1</td>\n",
       "      <td>Sedans</td>\n",
       "      <td>Green</td>\n",
       "      <td>10</td>\n",
       "      <td>85</td>\n",
       "      <td>Manual</td>\n",
       "      <td>Alloy wheels</td>\n",
       "      <td>22700</td>\n",
       "    </tr>\n",
       "    <tr>\n",
       "      <th>3601</th>\n",
       "      <td>Audi A1</td>\n",
       "      <td>Sedans</td>\n",
       "      <td>Grey</td>\n",
       "      <td>1</td>\n",
       "      <td>85</td>\n",
       "      <td>Manual</td>\n",
       "      <td>Alloy wheels</td>\n",
       "      <td>22700</td>\n",
       "    </tr>\n",
       "    <tr>\n",
       "      <th>3602</th>\n",
       "      <td>Audi A3</td>\n",
       "      <td>Sedans</td>\n",
       "      <td>Grey</td>\n",
       "      <td>23900</td>\n",
       "      <td>85</td>\n",
       "      <td>Automatic</td>\n",
       "      <td>Alloy wheels</td>\n",
       "      <td>22700</td>\n",
       "    </tr>\n",
       "    <tr>\n",
       "      <th>3603</th>\n",
       "      <td>Audi A3</td>\n",
       "      <td>Sedans</td>\n",
       "      <td>Grey</td>\n",
       "      <td>20978</td>\n",
       "      <td>85</td>\n",
       "      <td>Automatic</td>\n",
       "      <td>Alloy wheels,Sport seats</td>\n",
       "      <td>22700</td>\n",
       "    </tr>\n",
       "    <tr>\n",
       "      <th>3604</th>\n",
       "      <td>Audi A3</td>\n",
       "      <td>Sedans</td>\n",
       "      <td>Grey</td>\n",
       "      <td>20978</td>\n",
       "      <td>85</td>\n",
       "      <td>Automatic</td>\n",
       "      <td>Alloy wheels,Sport seats</td>\n",
       "      <td>22700</td>\n",
       "    </tr>\n",
       "    <tr>\n",
       "      <th>...</th>\n",
       "      <td>...</td>\n",
       "      <td>...</td>\n",
       "      <td>...</td>\n",
       "      <td>...</td>\n",
       "      <td>...</td>\n",
       "      <td>...</td>\n",
       "      <td>...</td>\n",
       "      <td>...</td>\n",
       "    </tr>\n",
       "    <tr>\n",
       "      <th>4795</th>\n",
       "      <td>Audi A3</td>\n",
       "      <td>Compact</td>\n",
       "      <td>Silver</td>\n",
       "      <td>7</td>\n",
       "      <td>85</td>\n",
       "      <td>Semi-automatic</td>\n",
       "      <td>Alloy wheels,Roof rack,Sport seats,Sport suspe...</td>\n",
       "      <td>38495</td>\n",
       "    </tr>\n",
       "    <tr>\n",
       "      <th>4796</th>\n",
       "      <td>Audi A3</td>\n",
       "      <td>Compact</td>\n",
       "      <td>Grey</td>\n",
       "      <td>7</td>\n",
       "      <td>85</td>\n",
       "      <td>Semi-automatic</td>\n",
       "      <td>Alloy wheels,Sport seats,Sport suspension</td>\n",
       "      <td>38725</td>\n",
       "    </tr>\n",
       "    <tr>\n",
       "      <th>4797</th>\n",
       "      <td>Audi A3</td>\n",
       "      <td>Compact</td>\n",
       "      <td>Grey</td>\n",
       "      <td>7</td>\n",
       "      <td>85</td>\n",
       "      <td>Semi-automatic</td>\n",
       "      <td>Alloy wheels,Sport seats,Sport suspension</td>\n",
       "      <td>39575</td>\n",
       "    </tr>\n",
       "    <tr>\n",
       "      <th>4798</th>\n",
       "      <td>Audi A3</td>\n",
       "      <td>Compact</td>\n",
       "      <td>Grey</td>\n",
       "      <td>750</td>\n",
       "      <td>85</td>\n",
       "      <td>Semi-automatic</td>\n",
       "      <td>Alloy wheels,Roof rack,Sport seats,Sport suspe...</td>\n",
       "      <td>41495</td>\n",
       "    </tr>\n",
       "    <tr>\n",
       "      <th>4799</th>\n",
       "      <td>Audi A3</td>\n",
       "      <td>Convertible</td>\n",
       "      <td>Blue</td>\n",
       "      <td>8364</td>\n",
       "      <td>85</td>\n",
       "      <td>Semi-automatic</td>\n",
       "      <td>Alloy wheels,Shift paddles,Sport seats,Sport s...</td>\n",
       "      <td>56100</td>\n",
       "    </tr>\n",
       "  </tbody>\n",
       "</table>\n",
       "<p>1200 rows × 8 columns</p>\n",
       "</div>"
      ],
      "text/plain": [
       "     make_model    body_type Body Color     km  hp    Transmission  \\\n",
       "3600    Audi A1       Sedans      Green     10  85          Manual   \n",
       "3601    Audi A1       Sedans       Grey      1  85          Manual   \n",
       "3602    Audi A3       Sedans       Grey  23900  85       Automatic   \n",
       "3603    Audi A3       Sedans       Grey  20978  85       Automatic   \n",
       "3604    Audi A3       Sedans       Grey  20978  85       Automatic   \n",
       "...         ...          ...        ...    ...  ..             ...   \n",
       "4795    Audi A3      Compact     Silver      7  85  Semi-automatic   \n",
       "4796    Audi A3      Compact       Grey      7  85  Semi-automatic   \n",
       "4797    Audi A3      Compact       Grey      7  85  Semi-automatic   \n",
       "4798    Audi A3      Compact       Grey    750  85  Semi-automatic   \n",
       "4799    Audi A3  Convertible       Blue   8364  85  Semi-automatic   \n",
       "\n",
       "                                                 Extras  price  \n",
       "3600                                       Alloy wheels  22700  \n",
       "3601                                       Alloy wheels  22700  \n",
       "3602                                       Alloy wheels  22700  \n",
       "3603                           Alloy wheels,Sport seats  22700  \n",
       "3604                           Alloy wheels,Sport seats  22700  \n",
       "...                                                 ...    ...  \n",
       "4795  Alloy wheels,Roof rack,Sport seats,Sport suspe...  38495  \n",
       "4796          Alloy wheels,Sport seats,Sport suspension  38725  \n",
       "4797          Alloy wheels,Sport seats,Sport suspension  39575  \n",
       "4798  Alloy wheels,Roof rack,Sport seats,Sport suspe...  41495  \n",
       "4799  Alloy wheels,Shift paddles,Sport seats,Sport s...  56100  \n",
       "\n",
       "[1200 rows x 8 columns]"
      ]
     },
     "execution_count": 3,
     "metadata": {},
     "output_type": "execute_result"
    }
   ],
   "source": [
    "#slicing 25% for testing\n",
    "n=25\n",
    "fdata = df.tail(int(len(df)*(n/100)))\n",
    "fdata"
   ]
  },
  {
   "cell_type": "code",
   "execution_count": 5,
   "id": "458ff9f0",
   "metadata": {},
   "outputs": [
    {
     "name": "stderr",
     "output_type": "stream",
     "text": [
      "C:\\Users\\kotam\\anaconda3\\lib\\site-packages\\seaborn\\distributions.py:2619: FutureWarning: `distplot` is a deprecated function and will be removed in a future version. Please adapt your code to use either `displot` (a figure-level function with similar flexibility) or `histplot` (an axes-level function for histograms).\n",
      "  warnings.warn(msg, FutureWarning)\n"
     ]
    },
    {
     "data": {
      "text/plain": [
       "<AxesSubplot:xlabel='price', ylabel='Density'>"
      ]
     },
     "execution_count": 5,
     "metadata": {},
     "output_type": "execute_result"
    },
    {
     "data": {
      "image/png": "[encoded data removed]",
      "text/plain": [
       "<Figure size 432x288 with 1 Axes>"
      ]
     },
     "metadata": {
      "needs_background": "light"
     },
     "output_type": "display_data"
    }
   ],
   "source": [
    "sns.distplot(data['price'])"
   ]
  },
  {
   "cell_type": "code",
   "execution_count": 7,
   "id": "26223155",
   "metadata": {},
   "outputs": [],
   "source": [
    "X_data = df [['km','hp']]\n",
    "y_data = df[['price']]"
   ]
  },
  {
   "cell_type": "code",
   "execution_count": 8,
   "id": "d2807dca",
   "metadata": {},
   "outputs": [],
   "source": [
    "from sklearn import preprocessing\n",
    "\n",
    "scaler = preprocessing.MinMaxScaler().fit(X_data)\n",
    "data_scaled = scaler.transform(X_data)\n",
    "X_scaled = data_scaled"
   ]
  },
  {
   "cell_type": "code",
   "execution_count": 9,
   "id": "bd742e79",
   "metadata": {},
   "outputs": [],
   "source": [
    "scaler = preprocessing.MinMaxScaler().fit(y_data)\n",
    "data_scaled = scaler.transform(y_data)\n",
    "y_scaled = data_scaled"
   ]
  },
  {
   "cell_type": "code",
   "execution_count": 10,
   "id": "f088a352",
   "metadata": {},
   "outputs": [
    {
     "name": "stdout",
     "output_type": "stream",
     "text": [
      "Fold: 1\n",
      "Accuracy for the fold no. 1 on the test set: -27.58737099593863%\n",
      "Fold: 2\n",
      "Accuracy for the fold no. 2 on the test set: -103.45025222056846%\n",
      "Fold: 3\n",
      "Accuracy for the fold no. 3 on the test set: -220.54781245597638%\n",
      "Fold: 4\n",
      "Accuracy for the fold no. 4 on the test set: -44.47976530372856%\n",
      "Fold: 5\n",
      "Accuracy for the fold no. 5 on the test set: -25.25896458165774%\n",
      "Fold: 6\n",
      "Accuracy for the fold no. 6 on the test set: -10.416614394041055%\n",
      "Fold: 7\n",
      "Accuracy for the fold no. 7 on the test set: -18.545481928209472%\n",
      "Fold: 8\n",
      "Accuracy for the fold no. 8 on the test set: -32.1836687278103%\n",
      "Fold: 9\n",
      "Accuracy for the fold no. 9 on the test set: -25.897237818204903%\n",
      "Fold: 10\n",
      "Accuracy for the fold no. 10 on the test set: -7.53980389080308%\n"
     ]
    }
   ],
   "source": [
    "from sklearn.model_selection import KFold\n",
    "from sklearn.linear_model import LinearRegression\n",
    "\n",
    "kf = KFold(n_splits=10)\n",
    "i = 1\n",
    "scores = []\n",
    "lm = LinearRegression()\n",
    "for train, test in kf.split(X_scaled):\n",
    "    print(\"Fold: {}\".format(i))\n",
    "    X_train, X_test, y_train, y_test = X_scaled[train], X_scaled[test], y_scaled[train], y_scaled[test]\n",
    "    lm.fit(X_train,y_train)\n",
    "    score = lm.score(X_test, y_test)\n",
    "    scores.append(score)\n",
    "    print(f\"Accuracy for the fold no. {i} on the test set: {score}%\")\n",
    "    i += 1"
   ]
  },
  {
   "cell_type": "code",
   "execution_count": 41,
   "id": "bace9adc",
   "metadata": {},
   "outputs": [
    {
     "name": "stdout",
     "output_type": "stream",
     "text": [
      "Accuracy: 61.90360616657324\n"
     ]
    }
   ],
   "source": [
    "from numpy import mean, std\n",
    "\n",
    "print('Accuracy: {}'.format(std(scores)))"
   ]
  },
  {
   "cell_type": "code",
   "execution_count": 12,
   "id": "9dad3815",
   "metadata": {},
   "outputs": [],
   "source": [
    "y_pred = lm.predict(X_test)"
   ]
  },
  {
   "cell_type": "code",
   "execution_count": 13,
   "id": "1fb143b7",
   "metadata": {},
   "outputs": [
    {
     "data": {
      "text/plain": [
       "Text(0, 0.5, 'Predicted')"
      ]
     },
     "execution_count": 13,
     "metadata": {},
     "output_type": "execute_result"
    },
    {
     "data": {
      "image/png": "[encoded data removed]",
      "text/plain": [
       "<Figure size 432x288 with 1 Axes>"
      ]
     },
     "metadata": {
      "needs_background": "light"
     },
     "output_type": "display_data"
    }
   ],
   "source": [
    "fig, ax = plt.subplots()\n",
    "ax.scatter(y_test, y_pred, edgecolors=(0, 0, 0))\n",
    "ax.plot([y_scaled.min(), y_scaled.max()], [y_scaled.min(), y_scaled.max()], 'k--', lw=4)\n",
    "ax.set_xlabel('Measured')\n",
    "ax.set_ylabel('Predicted')"
   ]
  },
  {
   "cell_type": "code",
   "execution_count": 53,
   "id": "c0678f1c",
   "metadata": {},
   "outputs": [
    {
     "data": {
      "image/png": "[encoded data removed]",
      "text/plain": [
       "<Figure size 432x288 with 1 Axes>"
      ]
     },
     "metadata": {
      "needs_background": "light"
     },
     "output_type": "display_data"
    }
   ],
   "source": [
    "from sklearn.model_selection import cross_val_predict\n",
    "\n",
    "lr = LinearRegression()\n",
    "predicted = cross_val_predict(lr, X_scaled, y_scaled, cv=5)\n",
    "\n",
    "fig, ax = plt.subplots()\n",
    "ax.scatter(y_scaled, predicted, edgecolors=(0, 0, 0), s=50)\n",
    "ax.plot([y_scaled.min(), y_scaled.max()], [y_scaled.min(), y_scaled.max()], 'k--', lw=5)\n",
    "ax.set_xlabel('Measured')\n",
    "ax.set_ylabel('Predicted')\n",
    "plt.show()"
   ]
  },
  {
   "cell_type": "code",
   "execution_count": 40,
   "id": "bf09bc4e",
   "metadata": {},
   "outputs": [
    {
     "name": "stdout",
     "output_type": "stream",
     "text": [
      "[ -27.587371   -103.45025222 -220.54781246  -44.4797653   -25.25896458\n",
      "  -10.41661439  -18.54548193  -32.18366873  -25.89723782   -7.53980389]\n",
      "Accuracy: 61.90360616657324 \n"
     ]
    }
   ],
   "source": [
    "from sklearn.model_selection import cross_val_score\n",
    "\n",
    "linreg = LinearRegression()\n",
    "scores = cross_val_score(linreg, X_scaled, y_scaled, cv=10, scoring=\"r2\")\n",
    "\n",
    "print(scores)\n",
    "print('Accuracy: {} '.format(std(scores)))"
   ]
  },
  {
   "cell_type": "code",
   "execution_count": 30,
   "id": "df24f837",
   "metadata": {},
   "outputs": [
    {
     "data": {
      "text/plain": [
       "0.14209742235820144"
      ]
     },
     "execution_count": 30,
     "metadata": {},
     "output_type": "execute_result"
    }
   ],
   "source": [
    "from sklearn import metrics\n",
    "\n",
    "mae = metrics.mean_absolute_error(y_test,y_pred)\n",
    "mae"
   ]
  },
  {
   "cell_type": "code",
   "execution_count": 31,
   "id": "90de3e0c",
   "metadata": {},
   "outputs": [
    {
     "data": {
      "text/plain": [
       "0.023373521921480997"
      ]
     },
     "execution_count": 31,
     "metadata": {},
     "output_type": "execute_result"
    }
   ],
   "source": [
    "mse = metrics.mean_squared_error(y_test,y_pred)\n",
    "mse"
   ]
  },
  {
   "cell_type": "code",
   "execution_count": 32,
   "id": "dae800c6",
   "metadata": {},
   "outputs": [
    {
     "data": {
      "text/plain": [
       "0.15288401460414688"
      ]
     },
     "execution_count": 32,
     "metadata": {},
     "output_type": "execute_result"
    }
   ],
   "source": [
    "rmse = np.sqrt(metrics.mean_squared_error(y_test,y_pred))\n",
    "rmse"
   ]
  },
  {
   "cell_type": "code",
   "execution_count": 34,
   "id": "cfd5c553",
   "metadata": {},
   "outputs": [
    {
     "data": {
      "text/html": [
       "<div>\n",
       "<style scoped>\n",
       "    .dataframe tbody tr th:only-of-type {\n",
       "        vertical-align: middle;\n",
       "    }\n",
       "\n",
       "    .dataframe tbody tr th {\n",
       "        vertical-align: top;\n",
       "    }\n",
       "\n",
       "    .dataframe thead th {\n",
       "        text-align: right;\n",
       "    }\n",
       "</style>\n",
       "<table border=\"1\" class=\"dataframe\">\n",
       "  <thead>\n",
       "    <tr style=\"text-align: right;\">\n",
       "      <th></th>\n",
       "      <th>Actual</th>\n",
       "      <th>Predicted</th>\n",
       "    </tr>\n",
       "  </thead>\n",
       "  <tbody>\n",
       "    <tr>\n",
       "      <th>0</th>\n",
       "      <td>[[0.39438124443565137], [0.39440102878623007],...</td>\n",
       "      <td>[[0.3018901262275627], [0.29839486310729785], ...</td>\n",
       "    </tr>\n",
       "  </tbody>\n",
       "</table>\n",
       "</div>"
      ],
      "text/plain": [
       "                                              Actual  \\\n",
       "0  [[0.39438124443565137], [0.39440102878623007],...   \n",
       "\n",
       "                                           Predicted  \n",
       "0  [[0.3018901262275627], [0.29839486310729785], ...  "
      ]
     },
     "execution_count": 34,
     "metadata": {},
     "output_type": "execute_result"
    }
   ],
   "source": [
    "df = pd.DataFrame({'Actual':[y_test], 'Predicted':[y_pred]})\n",
    "df"
   ]
  },
  {
   "cell_type": "code",
   "execution_count": null,
   "id": "1e958333",
   "metadata": {},
   "outputs": [],
   "source": []
  }
 ],
 "metadata": {
  "kernelspec": {
   "display_name": "Python 3 (ipykernel)",
   "language": "python",
   "name": "python3"
  },
  "language_info": {
   "codemirror_mode": {
    "name": "ipython",
    "version": 3
   },
   "file_extension": ".py",
   "mimetype": "text/x-python",
   "name": "python",
   "nbconvert_exporter": "python",
   "pygments_lexer": "ipython3",
   "version": "3.9.7"
  }
 },
 "nbformat": 4,
 "nbformat_minor": 5
}
